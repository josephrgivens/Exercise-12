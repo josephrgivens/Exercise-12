{
 "cells": [
  {
   "cell_type": "markdown",
   "id": "83e59290-c145-499e-b6c6-d260fe15bf55",
   "metadata": {
    "tags": []
   },
   "source": [
    "## Data Science Tools for Ecosystem"
   ]
  },
  {
   "cell_type": "markdown",
   "id": "d2f4a8e5-695b-4a24-8ba2-372233873b99",
   "metadata": {},
   "source": [
    "## Author\n",
    "Joe Givens"
   ]
  },
  {
   "cell_type": "markdown",
   "id": "c528b8de-48ca-4bf1-ad60-a8aef91a904e",
   "metadata": {},
   "source": [
    "In this notebook, the Data Science Tools and Ecoystem are summarized."
   ]
  },
  {
   "cell_type": "markdown",
   "id": "e6bdf13f-287b-44d8-90a8-7b6d9a47c525",
   "metadata": {},
   "source": [
    "**Objectives**\n",
    "- Languages\n",
    "- Libraries\n",
    "- Data science tools\n",
    "- Arithmetic expressions\n"
   ]
  },
  {
   "cell_type": "markdown",
   "id": "547325c0-5fe6-4972-ad79-c345e052f9c8",
   "metadata": {},
   "source": [
    "Some of the popular languages that Data Scientists use are:\n",
    "1. SQL\n",
    "2. Java\n",
    "3. C++\n",
    "4. Python"
   ]
  },
  {
   "cell_type": "markdown",
   "id": "31be3f97-ca1c-44ff-8f3c-60dddeb4d306",
   "metadata": {},
   "source": [
    "Some of the commonly used libraries used by Data Scientists include:\n",
    "    \n",
    "1. Pandas\n",
    "2. Matplotlib\n",
    "3. Scikit-Learn\n",
    "4. Keras\n",
    "5. Tensor Flow\n",
    "6. PyTorch"
   ]
  },
  {
   "cell_type": "markdown",
   "id": "a83bdb12-6bf9-42ce-a920-eca5d245a6c5",
   "metadata": {},
   "source": [
    "|Data Science Tools|\n",
    "--------------------\n",
    "|MySQL|\n",
    "|Hadoop|\n",
    "|MongoDB|\n",
    "|ceph|"
   ]
  },
  {
   "cell_type": "markdown",
   "id": "f3d62041-5945-4d26-92a4-3c53d9def010",
   "metadata": {},
   "source": [
    "### Below are a few examples of evlauating arithmetic expressions in Python"
   ]
  },
  {
   "cell_type": "code",
   "execution_count": 11,
   "id": "a80da054-f249-41e6-9f73-08c3b46dd8e0",
   "metadata": {
    "tags": []
   },
   "outputs": [
    {
     "data": {
      "text/plain": [
       "17"
      ]
     },
     "execution_count": 11,
     "metadata": {},
     "output_type": "execute_result"
    }
   ],
   "source": [
    "#This is a simple arithmetic expression to multiply then add integers\n",
    "(3*4)+5"
   ]
  },
  {
   "cell_type": "code",
   "execution_count": 12,
   "id": "07d4370f-049e-4a29-bb5f-ffdfa864c09b",
   "metadata": {
    "tags": []
   },
   "outputs": [
    {
     "data": {
      "text/plain": [
       "3.3333333333333335"
      ]
     },
     "execution_count": 12,
     "metadata": {},
     "output_type": "execute_result"
    }
   ],
   "source": [
    "#This will convert 200 minutes to hours by dividing by 60\n",
    "200/60"
   ]
  },
  {
   "cell_type": "code",
   "execution_count": null,
   "id": "a046c40b-cf44-48ae-a21a-da76e4cfb896",
   "metadata": {},
   "outputs": [],
   "source": []
  }
 ],
 "metadata": {
  "kernelspec": {
   "display_name": "Python",
   "language": "python",
   "name": "conda-env-python-py"
  },
  "language_info": {
   "codemirror_mode": {
    "name": "ipython",
    "version": 3
   },
   "file_extension": ".py",
   "mimetype": "text/x-python",
   "name": "python",
   "nbconvert_exporter": "python",
   "pygments_lexer": "ipython3",
   "version": "3.7.12"
  }
 },
 "nbformat": 4,
 "nbformat_minor": 5
}
